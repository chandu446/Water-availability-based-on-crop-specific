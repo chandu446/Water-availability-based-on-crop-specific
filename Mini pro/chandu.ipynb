{
 "cells": [
  {
   "cell_type": "code",
   "execution_count": 1,
   "id": "91b32019",
   "metadata": {},
   "outputs": [
    {
     "name": "stdout",
     "output_type": "stream",
     "text": [
      "hii\n"
     ]
    }
   ],
   "source": [
    "print(\"hii\")"
   ]
  },
  {
   "cell_type": "code",
   "execution_count": 51,
   "id": "7f362890",
   "metadata": {},
   "outputs": [],
   "source": [
    "import pandas as pd\n",
    "import numpy as np\n",
    "import matplotlib.pyplot as plt\n",
    "import seaborn as sns\n",
    "from sklearn.metrics import classification_report\n",
    "from sklearn import metrics\n",
    "from sklearn.model_selection import cross_val_score\n",
    "import pickle\n",
    "import os"
   ]
  },
  {
   "cell_type": "code",
   "execution_count": 52,
   "id": "4acc4b21",
   "metadata": {},
   "outputs": [],
   "source": [
    "df = pd.read_csv(\"c.csv\")"
   ]
  },
  {
   "cell_type": "code",
   "execution_count": 53,
   "id": "f515beb7",
   "metadata": {},
   "outputs": [
    {
     "name": "stdout",
     "output_type": "stream",
     "text": [
      "   state_name District_name  Season   Temperature         PH    Rainfall  \\\n",
      "0          AP        guntur  kharif  1.556612e+01   6.734788   57.098765   \n",
      "1          AP        guntur    rabi  2.576843e+01   7.345670   57.923756   \n",
      "2          AP        guntur    rabi  3.492876e+06   8.234567   56.938400   \n",
      "3          AP        guntur    rabi  2.345600e+01   5.345670   98.765400   \n",
      "4          AP        guntur   karif  6.447600e+02   8.345670  657.926500   \n",
      "5          AP        guntur    rabi  1.698634e+01  98.873400    6.345670   \n",
      "6          AP        guntur    rabi  2.487354e+01   9.655432    9.345670   \n",
      "7          AP        guntur    rabi  1.482750e+01   8.563700    7.345678   \n",
      "8          AP        guntur    rabi  3.468790e+01   8.522222    4.984600   \n",
      "9          AP        guntur   karif  7.804280e+01   4.542555    9.786950   \n",
      "10         AP        guntur    rabi  7.909845e+01   4.986987    8.987645   \n",
      "11         AP        guntur   karif  8.902875e+01   9.456600    9.094387   \n",
      "12         AP        guntur    rabi  7.602399e+01   9.345650    8.092847   \n",
      "13         AP        guntur   karif  8.902370e+01   3.845620    5.029387   \n",
      "14         AP        guntur    rabi  4.598364e+01   9.832745    8.092386   \n",
      "15         AP        guntur   karif  6.723400e+01   9.932870    7.986400   \n",
      "16         AP        guntur    rabi  2.956467e+01   8.873460    7.093470   \n",
      "17         AP        guntur   karif  7.873540e+01   7.923846    3.983600   \n",
      "18         AP        guntur   karif  4.512798e+01   9.918460    8.093470   \n",
      "19         AP        guntur   karif  9.463987e+01   9.923860    9.912864   \n",
      "20         AP        guntur    rabi  8.728935e+01   9.097850    4.918644   \n",
      "21         AP        guntur    rabi  9.898360e+01   9.873600    8.873600   \n",
      "22         AP        guntur    rabi  9.716540e+01   3.509870    8.837540   \n",
      "23         AP        guntur    rabi  3.487460e+01   6.783540    8.984600   \n",
      "24         AP        guntur    rabi  2.398356e+01   8.786540    5.918364   \n",
      "25         AP        guntur    rabi  6.793840e+01   4.837452    8.923865   \n",
      "\n",
      "    phosphorous  nitrogen    potash    crop  \n",
      "0      4.865733  8.128947  8.213834   wheat  \n",
      "1      8.938217  8.921846  8.872360  cotton  \n",
      "2      7.918265  9.873400  9.983267    urad  \n",
      "3      9.875368  3.887326  0.000000  mirchi  \n",
      "4      8.889365  8.932865  8.327468   wheat  \n",
      "5      5.297846  6.983256  9.823654    gram  \n",
      "6      9.876300  3.928376  4.827350   maize  \n",
      "7      6.984650  7.934661  3.987560   paddy  \n",
      "8      7.836450  7.827560  3.827354   maize  \n",
      "9      6.209385  8.765430  7.827350   paddy  \n",
      "10     9.985600  9.735420  8.827356  mirchi  \n",
      "11     7.918470  8.765410  9.827350  mirchi  \n",
      "12     6.983560  9.754400  6.827350  mirchi  \n",
      "13     5.918246  6.817450  5.983650   paddy  \n",
      "14     4.918640  8.873450  5.826434  mirchi  \n",
      "15     7.938560  9.765430  4.873460  mirchi  \n",
      "16     8.938600  9.345430  4.873500   wheat  \n",
      "17     9.983746  9.875420  3.456789   maize  \n",
      "18     8.823745  8.735462  5.456780   maize  \n",
      "19     9.918346  7.724620  6.234568   wheat  \n",
      "20     8.837460  9.273560  4.928734  cotton  \n",
      "21     7.873245  5.817540  8.723540  cotton  \n",
      "22     7.846400  6.817460  9.873600  cotton  \n",
      "23     4.918640  8.187245  6.723530   maize  \n",
      "24     8.918364  5.187354  8.735430   paddy  \n",
      "25     9.745440  5.821754  3.657887   paddy  \n"
     ]
    }
   ],
   "source": [
    "print(df)"
   ]
  },
  {
   "cell_type": "code",
   "execution_count": 54,
   "id": "61004cd1",
   "metadata": {},
   "outputs": [
    {
     "data": {
      "text/html": [
       "<div>\n",
       "<style scoped>\n",
       "    .dataframe tbody tr th:only-of-type {\n",
       "        vertical-align: middle;\n",
       "    }\n",
       "\n",
       "    .dataframe tbody tr th {\n",
       "        vertical-align: top;\n",
       "    }\n",
       "\n",
       "    .dataframe thead th {\n",
       "        text-align: right;\n",
       "    }\n",
       "</style>\n",
       "<table border=\"1\" class=\"dataframe\">\n",
       "  <thead>\n",
       "    <tr style=\"text-align: right;\">\n",
       "      <th></th>\n",
       "      <th>state_name</th>\n",
       "      <th>District_name</th>\n",
       "      <th>Season</th>\n",
       "      <th>Temperature</th>\n",
       "      <th>PH</th>\n",
       "      <th>Rainfall</th>\n",
       "      <th>phosphorous</th>\n",
       "      <th>nitrogen</th>\n",
       "      <th>potash</th>\n",
       "      <th>crop</th>\n",
       "    </tr>\n",
       "  </thead>\n",
       "  <tbody>\n",
       "    <tr>\n",
       "      <th>0</th>\n",
       "      <td>AP</td>\n",
       "      <td>guntur</td>\n",
       "      <td>kharif</td>\n",
       "      <td>1.556612e+01</td>\n",
       "      <td>6.734788</td>\n",
       "      <td>57.098765</td>\n",
       "      <td>4.865733</td>\n",
       "      <td>8.128947</td>\n",
       "      <td>8.213834</td>\n",
       "      <td>wheat</td>\n",
       "    </tr>\n",
       "    <tr>\n",
       "      <th>1</th>\n",
       "      <td>AP</td>\n",
       "      <td>guntur</td>\n",
       "      <td>rabi</td>\n",
       "      <td>2.576843e+01</td>\n",
       "      <td>7.345670</td>\n",
       "      <td>57.923756</td>\n",
       "      <td>8.938217</td>\n",
       "      <td>8.921846</td>\n",
       "      <td>8.872360</td>\n",
       "      <td>cotton</td>\n",
       "    </tr>\n",
       "    <tr>\n",
       "      <th>2</th>\n",
       "      <td>AP</td>\n",
       "      <td>guntur</td>\n",
       "      <td>rabi</td>\n",
       "      <td>3.492876e+06</td>\n",
       "      <td>8.234567</td>\n",
       "      <td>56.938400</td>\n",
       "      <td>7.918265</td>\n",
       "      <td>9.873400</td>\n",
       "      <td>9.983267</td>\n",
       "      <td>urad</td>\n",
       "    </tr>\n",
       "    <tr>\n",
       "      <th>3</th>\n",
       "      <td>AP</td>\n",
       "      <td>guntur</td>\n",
       "      <td>rabi</td>\n",
       "      <td>2.345600e+01</td>\n",
       "      <td>5.345670</td>\n",
       "      <td>98.765400</td>\n",
       "      <td>9.875368</td>\n",
       "      <td>3.887326</td>\n",
       "      <td>0.000000</td>\n",
       "      <td>mirchi</td>\n",
       "    </tr>\n",
       "    <tr>\n",
       "      <th>4</th>\n",
       "      <td>AP</td>\n",
       "      <td>guntur</td>\n",
       "      <td>karif</td>\n",
       "      <td>6.447600e+02</td>\n",
       "      <td>8.345670</td>\n",
       "      <td>657.926500</td>\n",
       "      <td>8.889365</td>\n",
       "      <td>8.932865</td>\n",
       "      <td>8.327468</td>\n",
       "      <td>wheat</td>\n",
       "    </tr>\n",
       "  </tbody>\n",
       "</table>\n",
       "</div>"
      ],
      "text/plain": [
       "  state_name District_name  Season   Temperature        PH    Rainfall  \\\n",
       "0         AP        guntur  kharif  1.556612e+01  6.734788   57.098765   \n",
       "1         AP        guntur    rabi  2.576843e+01  7.345670   57.923756   \n",
       "2         AP        guntur    rabi  3.492876e+06  8.234567   56.938400   \n",
       "3         AP        guntur    rabi  2.345600e+01  5.345670   98.765400   \n",
       "4         AP        guntur   karif  6.447600e+02  8.345670  657.926500   \n",
       "\n",
       "   phosphorous  nitrogen    potash    crop  \n",
       "0     4.865733  8.128947  8.213834   wheat  \n",
       "1     8.938217  8.921846  8.872360  cotton  \n",
       "2     7.918265  9.873400  9.983267    urad  \n",
       "3     9.875368  3.887326  0.000000  mirchi  \n",
       "4     8.889365  8.932865  8.327468   wheat  "
      ]
     },
     "execution_count": 54,
     "metadata": {},
     "output_type": "execute_result"
    }
   ],
   "source": [
    "df.head()"
   ]
  },
  {
   "cell_type": "code",
   "execution_count": 55,
   "id": "948c679b",
   "metadata": {},
   "outputs": [
    {
     "data": {
      "text/plain": [
       "260"
      ]
     },
     "execution_count": 55,
     "metadata": {},
     "output_type": "execute_result"
    }
   ],
   "source": [
    "df.size"
   ]
  },
  {
   "cell_type": "code",
   "execution_count": 56,
   "id": "d2007166",
   "metadata": {},
   "outputs": [
    {
     "data": {
      "text/plain": [
       "(26, 10)"
      ]
     },
     "execution_count": 56,
     "metadata": {},
     "output_type": "execute_result"
    }
   ],
   "source": [
    "df.shape"
   ]
  },
  {
   "cell_type": "code",
   "execution_count": 57,
   "id": "483b6d33",
   "metadata": {},
   "outputs": [
    {
     "data": {
      "text/plain": [
       "Index(['state_name', 'District_name', 'Season', 'Temperature', 'PH',\n",
       "       'Rainfall', 'phosphorous', 'nitrogen', 'potash', 'crop'],\n",
       "      dtype='object')"
      ]
     },
     "execution_count": 57,
     "metadata": {},
     "output_type": "execute_result"
    }
   ],
   "source": [
    "df.columns"
   ]
  },
  {
   "cell_type": "code",
   "execution_count": 58,
   "id": "4ca35d7b",
   "metadata": {},
   "outputs": [
    {
     "data": {
      "text/plain": [
       "array(['wheat', 'cotton', 'urad', 'mirchi', 'gram', 'maize', 'paddy'],\n",
       "      dtype=object)"
      ]
     },
     "execution_count": 58,
     "metadata": {},
     "output_type": "execute_result"
    }
   ],
   "source": [
    "df['crop'].unique()"
   ]
  },
  {
   "cell_type": "code",
   "execution_count": 59,
   "id": "840c431d",
   "metadata": {},
   "outputs": [
    {
     "data": {
      "text/plain": [
       "state_name        object\n",
       "District_name     object\n",
       "Season            object\n",
       "Temperature      float64\n",
       "PH               float64\n",
       "Rainfall         float64\n",
       "phosphorous      float64\n",
       "nitrogen         float64\n",
       "potash           float64\n",
       "crop              object\n",
       "dtype: object"
      ]
     },
     "execution_count": 59,
     "metadata": {},
     "output_type": "execute_result"
    }
   ],
   "source": [
    "df.dtypes"
   ]
  },
  {
   "cell_type": "code",
   "execution_count": 60,
   "id": "93886b93",
   "metadata": {},
   "outputs": [
    {
     "data": {
      "text/plain": [
       "mirchi    6\n",
       "maize     5\n",
       "paddy     5\n",
       "wheat     4\n",
       "cotton    4\n",
       "urad      1\n",
       "gram      1\n",
       "Name: crop, dtype: int64"
      ]
     },
     "execution_count": 60,
     "metadata": {},
     "output_type": "execute_result"
    }
   ],
   "source": [
    "df['crop'].value_counts()"
   ]
  },
  {
   "cell_type": "code",
   "execution_count": 61,
   "id": "34485dd2",
   "metadata": {
    "scrolled": true
   },
   "outputs": [
    {
     "data": {
      "text/plain": [
       "<AxesSubplot:>"
      ]
     },
     "execution_count": 61,
     "metadata": {},
     "output_type": "execute_result"
    },
    {
     "data": {
      "image/png": "[encoded data removed]",
      "text/plain": [
       "<Figure size 432x288 with 2 Axes>"
      ]
     },
     "metadata": {
      "needs_background": "light"
     },
     "output_type": "display_data"
    }
   ],
   "source": [
    "sns.heatmap(df.corr(),annot=True)"
   ]
  },
  {
   "cell_type": "code",
   "execution_count": 62,
   "id": "fab65650",
   "metadata": {},
   "outputs": [],
   "source": [
    "features = df[['Temperature','PH','Rainfall','phosphorous','nitrogen','potash']]\n",
    "\n"
   ]
  },
  {
   "cell_type": "code",
   "execution_count": 63,
   "id": "8bb7d76b",
   "metadata": {},
   "outputs": [],
   "source": [
    "target = df['crop']"
   ]
  },
  {
   "cell_type": "code",
   "execution_count": 64,
   "id": "e2d4e80d",
   "metadata": {},
   "outputs": [],
   "source": [
    "acc = []"
   ]
  },
  {
   "cell_type": "code",
   "execution_count": 65,
   "id": "9717fd77",
   "metadata": {},
   "outputs": [],
   "source": [
    "model = []"
   ]
  },
  {
   "cell_type": "code",
   "execution_count": 66,
   "id": "446abc7f",
   "metadata": {},
   "outputs": [],
   "source": [
    "from sklearn.model_selection import train_test_split"
   ]
  },
  {
   "cell_type": "code",
   "execution_count": 67,
   "id": "9c11e313",
   "metadata": {},
   "outputs": [],
   "source": [
    "Xtrain, Xtest, Ytrain, Ytest = train_test_split(features,target,test_size = 0.2,random_state =2)"
   ]
  },
  {
   "cell_type": "code",
   "execution_count": 68,
   "id": "d5709b18",
   "metadata": {},
   "outputs": [],
   "source": [
    "from sklearn.ensemble import RandomForestClassifier"
   ]
  },
  {
   "cell_type": "code",
   "execution_count": 69,
   "id": "83bc2312",
   "metadata": {},
   "outputs": [],
   "source": [
    "acc_score = []"
   ]
  },
  {
   "cell_type": "code",
   "execution_count": 70,
   "id": "c4275bfb",
   "metadata": {},
   "outputs": [],
   "source": [
    "n_estimators = [1, 2, 4, 8, 16, 32, 64, 100, 200]"
   ]
  },
  {
   "cell_type": "code",
   "execution_count": 71,
   "id": "c792d082",
   "metadata": {},
   "outputs": [],
   "source": [
    "for i in n_estimators:\n",
    "    RF = RandomForestClassifier(n_estimators=i, random_state=2)\n",
    "    RF.fit(Xtrain,Ytrain)\n",
    "    predicted_values = RF.predict(Xtest)\n",
    "\n",
    "    x = metrics.accuracy_score(Ytest, predicted_values)\n",
    "    acc_score.append(x) \n",
    "    "
   ]
  },
  {
   "cell_type": "code",
   "execution_count": 72,
   "id": "71f22cd7",
   "metadata": {},
   "outputs": [
    {
     "data": {
      "image/png": "[encoded data removed]",
      "text/plain": [
       "<Figure size 432x288 with 1 Axes>"
      ]
     },
     "metadata": {
      "needs_background": "light"
     },
     "output_type": "display_data"
    }
   ],
   "source": [
    "plt.plot(n_estimators, acc_score, 'b', label='Accuracy')\n",
    "plt.ylabel('Accuracy score')\n",
    "plt.xlabel('n_estimators')\n",
    "plt.show()    \n"
   ]
  },
  {
   "cell_type": "code",
   "execution_count": 73,
   "id": "418d486e",
   "metadata": {},
   "outputs": [
    {
     "data": {
      "text/plain": [
       "[0.3333333333333333,\n",
       " 0.0,\n",
       " 0.16666666666666666,\n",
       " 0.16666666666666666,\n",
       " 0.16666666666666666,\n",
       " 0.16666666666666666,\n",
       " 0.16666666666666666,\n",
       " 0.16666666666666666,\n",
       " 0.16666666666666666]"
      ]
     },
     "execution_count": 73,
     "metadata": {},
     "output_type": "execute_result"
    }
   ],
   "source": [
    "acc_score"
   ]
  },
  {
   "cell_type": "code",
   "execution_count": 74,
   "id": "ef1efb87",
   "metadata": {},
   "outputs": [
    {
     "data": {
      "text/plain": [
       "RandomForestClassifier(n_estimators=16, random_state=2)"
      ]
     },
     "execution_count": 74,
     "metadata": {},
     "output_type": "execute_result"
    }
   ],
   "source": [
    "RF = RandomForestClassifier(n_estimators=16, random_state=2)\n",
    "RF.fit(Xtrain,Ytrain)"
   ]
  },
  {
   "cell_type": "code",
   "execution_count": 75,
   "id": "6962a126",
   "metadata": {},
   "outputs": [],
   "source": [
    "predicted_values = RF.predict(Xtest)\n"
   ]
  },
  {
   "cell_type": "code",
   "execution_count": 76,
   "id": "f875871b",
   "metadata": {},
   "outputs": [
    {
     "name": "stdout",
     "output_type": "stream",
     "text": [
      "RF's Accuracy is:  0.16666666666666666\n"
     ]
    }
   ],
   "source": [
    "x = metrics.accuracy_score(Ytest, predicted_values)\n",
    "acc.append(x)                         #accuracy\n",
    "model.append('RF')                   #model name\n",
    "print(\"RF's Accuracy is: \", x)"
   ]
  },
  {
   "cell_type": "code",
   "execution_count": 77,
   "id": "c8b569ce",
   "metadata": {},
   "outputs": [
    {
     "name": "stdout",
     "output_type": "stream",
     "text": [
      "              precision    recall  f1-score   support\n",
      "\n",
      "      cotton       0.00      0.00      0.00         1\n",
      "       maize       0.00      0.00      0.00         0\n",
      "      mirchi       0.20      1.00      0.33         1\n",
      "       paddy       0.00      0.00      0.00         2\n",
      "       wheat       0.00      0.00      0.00         2\n",
      "\n",
      "    accuracy                           0.17         6\n",
      "   macro avg       0.04      0.20      0.07         6\n",
      "weighted avg       0.03      0.17      0.06         6\n",
      "\n"
     ]
    },
    {
     "name": "stderr",
     "output_type": "stream",
     "text": [
      "C:\\Users\\user\\anaconda3\\lib\\site-packages\\sklearn\\metrics\\_classification.py:1318: UndefinedMetricWarning: Precision and F-score are ill-defined and being set to 0.0 in labels with no predicted samples. Use `zero_division` parameter to control this behavior.\n",
      "  _warn_prf(average, modifier, msg_start, len(result))\n",
      "C:\\Users\\user\\anaconda3\\lib\\site-packages\\sklearn\\metrics\\_classification.py:1318: UndefinedMetricWarning: Recall and F-score are ill-defined and being set to 0.0 in labels with no true samples. Use `zero_division` parameter to control this behavior.\n",
      "  _warn_prf(average, modifier, msg_start, len(result))\n",
      "C:\\Users\\user\\anaconda3\\lib\\site-packages\\sklearn\\metrics\\_classification.py:1318: UndefinedMetricWarning: Precision and F-score are ill-defined and being set to 0.0 in labels with no predicted samples. Use `zero_division` parameter to control this behavior.\n",
      "  _warn_prf(average, modifier, msg_start, len(result))\n",
      "C:\\Users\\user\\anaconda3\\lib\\site-packages\\sklearn\\metrics\\_classification.py:1318: UndefinedMetricWarning: Recall and F-score are ill-defined and being set to 0.0 in labels with no true samples. Use `zero_division` parameter to control this behavior.\n",
      "  _warn_prf(average, modifier, msg_start, len(result))\n",
      "C:\\Users\\user\\anaconda3\\lib\\site-packages\\sklearn\\metrics\\_classification.py:1318: UndefinedMetricWarning: Precision and F-score are ill-defined and being set to 0.0 in labels with no predicted samples. Use `zero_division` parameter to control this behavior.\n",
      "  _warn_prf(average, modifier, msg_start, len(result))\n",
      "C:\\Users\\user\\anaconda3\\lib\\site-packages\\sklearn\\metrics\\_classification.py:1318: UndefinedMetricWarning: Recall and F-score are ill-defined and being set to 0.0 in labels with no true samples. Use `zero_division` parameter to control this behavior.\n",
      "  _warn_prf(average, modifier, msg_start, len(result))\n"
     ]
    }
   ],
   "source": [
    "print(classification_report(Ytest,predicted_values))"
   ]
  },
  {
   "cell_type": "code",
   "execution_count": 78,
   "id": "c45ac0a8",
   "metadata": {},
   "outputs": [
    {
     "data": {
      "text/plain": [
       "<Figure size 1000x100 with 0 Axes>"
      ]
     },
     "execution_count": 78,
     "metadata": {},
     "output_type": "execute_result"
    },
    {
     "data": {
      "text/plain": [
       "<Figure size 1000x100 with 0 Axes>"
      ]
     },
     "metadata": {},
     "output_type": "display_data"
    }
   ],
   "source": [
    "plt.figure(figsize=[10,1],dpi = 100)"
   ]
  },
  {
   "cell_type": "code",
   "execution_count": 79,
   "id": "e6ee5c6f",
   "metadata": {},
   "outputs": [
    {
     "data": {
      "text/plain": [
       "<AxesSubplot:xlabel='Accuracy', ylabel='Algorithm'>"
      ]
     },
     "execution_count": 79,
     "metadata": {},
     "output_type": "execute_result"
    },
    {
     "data": {
      "image/png": "[encoded data removed]",
      "text/plain": [
       "<Figure size 432x288 with 1 Axes>"
      ]
     },
     "metadata": {
      "needs_background": "light"
     },
     "output_type": "display_data"
    }
   ],
   "source": [
    "plt.xlabel('Accuracy')\n",
    "plt.ylabel('Algorithm')\n",
    "sns.barplot(x = acc,y = model,palette='dark')"
   ]
  },
  {
   "cell_type": "code",
   "execution_count": 80,
   "id": "e917da60",
   "metadata": {},
   "outputs": [
    {
     "name": "stderr",
     "output_type": "stream",
     "text": [
      "C:\\Users\\user\\anaconda3\\lib\\site-packages\\sklearn\\model_selection\\_split.py:676: UserWarning: The least populated class in y has only 1 members, which is less than n_splits=3.\n",
      "  warnings.warn(\n"
     ]
    }
   ],
   "source": [
    "score = cross_val_score(RF,features,target,cv=3)\n"
   ]
  },
  {
   "cell_type": "code",
   "execution_count": 81,
   "id": "a9048f14",
   "metadata": {},
   "outputs": [
    {
     "data": {
      "text/plain": [
       "array([0.11111111, 0.33333333, 0.375     ])"
      ]
     },
     "execution_count": 81,
     "metadata": {},
     "output_type": "execute_result"
    }
   ],
   "source": [
    "score"
   ]
  },
  {
   "cell_type": "code",
   "execution_count": 82,
   "id": "f21256eb",
   "metadata": {},
   "outputs": [],
   "source": [
    "accuracy_models = dict(zip(model, acc))"
   ]
  },
  {
   "cell_type": "code",
   "execution_count": 83,
   "id": "fe1ae271",
   "metadata": {},
   "outputs": [
    {
     "name": "stdout",
     "output_type": "stream",
     "text": [
      "RF --> 0.16666666666666666\n"
     ]
    }
   ],
   "source": [
    "for k, v in accuracy_models.items():\n",
    "    print (k, '-->', v)"
   ]
  },
  {
   "cell_type": "code",
   "execution_count": 84,
   "id": "11851e17",
   "metadata": {},
   "outputs": [
    {
     "name": "stdout",
     "output_type": "stream",
     "text": [
      "['cotton']\n"
     ]
    },
    {
     "name": "stderr",
     "output_type": "stream",
     "text": [
      "C:\\Users\\user\\anaconda3\\lib\\site-packages\\sklearn\\base.py:450: UserWarning: X does not have valid feature names, but RandomForestClassifier was fitted with feature names\n",
      "  warnings.warn(\n"
     ]
    }
   ],
   "source": [
    "data = np.array([[25,6,30,53,23,12,]])\n",
    "prediction = RF.predict(data)\n",
    "print(prediction)"
   ]
  },
  {
   "cell_type": "code",
   "execution_count": null,
   "id": "19f80015",
   "metadata": {},
   "outputs": [],
   "source": []
  },
  {
   "cell_type": "code",
   "execution_count": null,
   "id": "23330b0d",
   "metadata": {},
   "outputs": [],
   "source": []
  }
 ],
 "metadata": {
  "kernelspec": {
   "display_name": "Python 3 (ipykernel)",
   "language": "python",
   "name": "python3"
  },
  "language_info": {
   "codemirror_mode": {
    "name": "ipython",
    "version": 3
   },
   "file_extension": ".py",
   "mimetype": "text/x-python",
   "name": "python",
   "nbconvert_exporter": "python",
   "pygments_lexer": "ipython3",
   "version": "3.9.12"
  }
 },
 "nbformat": 4,
 "nbformat_minor": 5
}
